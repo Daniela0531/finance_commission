{
 "cells": [
  {
   "cell_type": "code",
   "execution_count": 14,
   "metadata": {
    "id": "-jaPLk_bwxUp"
   },
   "outputs": [],
   "source": [
    "# import pandas as pd\n",
    "# import numpy as np\n",
    "# import yfinance as yf\n",
    "# import matplotlib.pyplot as plt\n",
    "\n",
    "# # Загрузка данных о акциях Яндекса с 2016 года\n",
    "# ticker = \"AAPL\"  # Тикер акций Яндекса на Московской бирже\n",
    "# start_date = \"2016-01-01\"\n",
    "# end_date = \"2023-10-01\"\n",
    "\n",
    "# print (\"hey\")\n",
    "# # Получаем данные\n",
    "# data = yf.download(ticker, start=start_date, end=end_date, timeout=200000)\n",
    "# print (\"buy\")\n",
    "# # Рассчитываем ежедневные доходности\n",
    "# data['Returns'] = data['Adj Close'].pct_change()\n",
    "\n",
    "# # Удаляем пропуски\n",
    "# data = data.dropna()\n",
    "\n",
    "# # Определяем уровень доверия для VaR (например, 95%)\n",
    "# confidence_level = 0.95\n",
    "\n",
    "# # Рассчитываем VaR\n",
    "# VaR = np.percentile(data['Returns'], (1 - confidence_level) * 100)\n",
    "\n",
    "# # Конвертируем VaR в проценты\n",
    "# VaR_percentage = VaR * 100\n",
    "\n",
    "# print(f\"Value at Risk (VaR) на уровне {confidence_level * 100}%: {VaR_percentage:.2f}%\")\n",
    "\n",
    "# # Для визуализации распределения доходностей\n",
    "# plt.figure(figsize=(10, 6))\n",
    "# plt.hist(data['Returns'], bins=50, alpha=0.75)\n",
    "# plt.axvline(x=VaR, color='red', linestyle='--', label=f'VaR ({confidence_level * 100}%)')\n",
    "# plt.title('Распределение ежедневных доходностей акций Яндекса')\n",
    "# plt.xlabel('Доходность')\n",
    "# plt.ylabel('Частота')\n",
    "# plt.legend()\n",
    "# plt.show()\n"
   ]
  },
  {
   "cell_type": "code",
   "execution_count": 15,
   "metadata": {},
   "outputs": [
    {
     "data": {
      "text/plain": [
       "'0.2.37'"
      ]
     },
     "execution_count": 15,
     "metadata": {},
     "output_type": "execute_result"
    }
   ],
   "source": [
    "yf.__version__"
   ]
  },
  {
   "cell_type": "code",
   "execution_count": 16,
   "metadata": {},
   "outputs": [],
   "source": [
    "# import numpy as np\n",
    "# import pandas as pd\n",
    "# import matplotlib.pyplot as plt\n",
    "# !pip install --upgrade yfinance\n",
    "# import yfinance as yf"
   ]
  },
  {
   "cell_type": "code",
   "execution_count": 17,
   "metadata": {},
   "outputs": [],
   "source": [
    "# # Import the yfinance. If you get module not found error the run !pip install yfianance from your Jupyter notebook\n",
    "# import yfinance as yf\n",
    "\n",
    "# # Get the data for the stock AAPL\n",
    "# data = yf.download('AAPL','2016-01-01','2019-08-01')\n",
    "\n",
    "# # Import the plotting library\n",
    "# import matplotlib.pyplot as plt\n",
    "# %matplotlib inline\n",
    "\n",
    "# # Plot the close price of the AAPL\n",
    "# data['Adj Close'].plot()\n",
    "# plt.show()"
   ]
  },
  {
   "cell_type": "code",
   "execution_count": 18,
   "metadata": {},
   "outputs": [],
   "source": [
    "# stocks = ['AAPL', 'WMT', 'TSLA', 'GE', 'AMZN', 'DB']\n",
    "# start_date = '2018-01-01'\n",
    "# end_date = '2024-01-01'\n",
    "\n",
    "# # stocks = stocks.copy()\n",
    "# # start_date = start_date\n",
    "# # end_date = end_date\n",
    "\n",
    "\n",
    "# df = {}\n",
    "# for stock in stocks:\n",
    "#     ticker = yf.Ticker(stock)\n",
    "#     df[stock] = ticker.history(start = start_date, end = end_date, period='1mo')['Close']\n",
    "# pd.DataFrame(df)"
   ]
  },
  {
   "cell_type": "code",
   "execution_count": 19,
   "metadata": {},
   "outputs": [],
   "source": [
    "# import pandas as pd\n",
    "# import requests\n",
    "# from matplotlib import pyplot as plt\n",
    "\n",
    "# j = requests.get('http://iss.moex.com/iss/engines/stock/markets/shares/securities/YNDX/candles.json?from=2023-05-25&till=2023-09-01&interval=24').json()\n",
    "# data = [{k : r[i] for i, k in enumerate(j['candles']['columns'])} for r in j['candles']['data']]\n",
    "# frame = pd.DataFrame(data)\n",
    "# print(frame)\n",
    "# plt.plot(list(frame['close']))\n",
    "# plt.savefig(\"shares.png\")"
   ]
  },
  {
   "cell_type": "code",
   "execution_count": 20,
   "metadata": {},
   "outputs": [],
   "source": [
    "# # Задаем тикер для акций Газпрома\n",
    "# ticker = 'GAZP.ME'  # Тикер Газпрома на Московской бирже\n",
    "# # Загружаем данные\n",
    "# data = yf.download(ticker, start='2018-01-01', end='2019-12-31')\n",
    "# # Выводим первые 5 строк загруженных данных\n",
    "# print(data.head())\n",
    "# # Сохраняем данные в CSV файл, если необходимо\n",
    "# data.to_csv('GAZP_180101_191231.csv')\n",
    "\n",
    "\n",
    "# tickers_list = ['AAPL', 'WMT', 'IBM', 'MU', 'BA', 'AXP']\n",
    "# data = pd.DataFrame(columns=tickers_list)\n",
    "# for ticker in tickers_list:\n",
    "#     data[ticker] = yf.download(ticker,'2016-01-01','2019-08-01')['Adj Close'] \n",
    "# data.head()\n",
    "\n",
    "# import yfinance as yf\n",
    "\n",
    " \n",
    "# apple = yf.Ticker(\"aapl\")\n",
    "# print(apple)\n",
    "# apple_historical = apple.history()\n",
    "# print(apple_historical)"
   ]
  },
  {
   "cell_type": "code",
   "execution_count": 21,
   "metadata": {
    "id": "7uGX_qAL9BRf"
   },
   "outputs": [],
   "source": [
    "alpha=0.05"
   ]
  },
  {
   "cell_type": "code",
   "execution_count": 29,
   "metadata": {
    "id": "FQtukHqE9ESM"
   },
   "outputs": [],
   "source": [
    "classic_var_data=dict.fromkeys(['Gazprom', 'Sberbank', 'Yandex'])\n",
    "# print('GAZP')\n",
    "# GAZP = pd.read_csv(\"GAZP_180101_191231.csv\",sep=';', header=0, index_col='<DATE>', parse_dates=True)\n",
    "# GAZP = GAZP.sort_values(by='<DATE>')\n",
    "# # Добавление столбца изменения с использованием шифтинга\n",
    "# GAZP['30_days_growth']=((GAZP['<CLOSE>']/GAZP['<CLOSE>'].shift(30))-1)*100\n",
    "# GAZP['after_30_days_growth']=((GAZP['<CLOSE>'].shift(-30)/GAZP['<CLOSE>'])-1)*100\n",
    "# GAZP['ticket']='GAZP'\n",
    "# print(GAZP)"
   ]
  },
  {
   "cell_type": "code",
   "execution_count": 30,
   "metadata": {},
   "outputs": [],
   "source": [
    "# pd.set_option('display.max_columns', None)\n",
    "# pd.set_option('display.expand_frame_repr', False)\n",
    "# pd.set_option('max_colwidth', 80)\n",
    "# pd.set_option('max_rows', 60000)"
   ]
  },
  {
   "cell_type": "code",
   "execution_count": 31,
   "metadata": {},
   "outputs": [
    {
     "name": "stdout",
     "output_type": "stream",
     "text": [
      "              Цена   Откр.   Макс.    Мин.    Объём  Изм. %\n",
      "Дата                                                       \n",
      "2016-01-25  133,00  133,14  133,19  130,68   30,43M   0,45%\n",
      "2016-01-26  131,89  131,00  132,45  130,34   26,16M  -0,83%\n",
      "2016-01-27  134,00  132,14  134,00  131,85   28,64M   1,60%\n",
      "2016-01-28  136,50  133,90  136,50  133,15   40,29M   1,87%\n",
      "2016-01-29  136,60  137,00  137,20  133,33   41,60M   0,07%\n",
      "...            ...     ...     ...     ...      ...     ...\n",
      "2025-02-18  171,20  181,00  184,80  169,00  319,22M  -4,92%\n",
      "2025-02-19  176,25  172,22  177,80  169,12  140,45M   2,95%\n",
      "2025-02-20  173,00  176,26  176,44  172,23   84,84M  -1,84%\n",
      "2025-02-21  171,09  173,00  174,38  167,61  101,89M  -1,10%\n",
      "2025-02-24  171,24  170,47  172,28  169,25   57,30M   0,09%\n",
      "\n",
      "[2293 rows x 6 columns]\n"
     ]
    }
   ],
   "source": [
    "# print('GAZP')\n",
    "# GAZP = pd.read_csv(\"GAZP.csv\",sep=',', header=0, index_col='Дата', parse_dates=True)\n",
    "# GAZP = pd.read_csv(\"GAZP.csv\",sep=';', header=0, index_col='<Дата>', parse_dates=True)\n",
    "# GAZP = GAZP.sort_values(by='Дата')\n",
    "# Добавление столбца изменения с использованием шифтинга\n",
    "# GAZP['30_days_growth']=((GAZP['<CLOSE>']/GAZP['<CLOSE>'].shift(30))-1)*100\n",
    "# GAZP['after_30_days_growth']=((GAZP['<CLOSE>'].shift(-30)/GAZP['<CLOSE>'])-1)*100\n",
    "# GAZP['ticket']='GAZP'\n",
    "print(GAZP)"
   ]
  },
  {
   "cell_type": "code",
   "execution_count": 79,
   "metadata": {},
   "outputs": [],
   "source": [
    "classic_var_data['Gazprom']=pd.read_csv('GAZP.csv')\n",
    "classic_var_data['Sberbank']=pd.read_csv('SBER.csv')\n",
    "classic_var_data['Yandex']=pd.read_csv('YDEX.csv')"
   ]
  },
  {
   "cell_type": "code",
   "execution_count": 80,
   "metadata": {
    "colab": {
     "base_uri": "https://localhost:8080/"
    },
    "id": "T6uHOz5__wbI",
    "outputId": "42505be5-71c4-4df8-9299-54b09e6cbd59"
   },
   "outputs": [
    {
     "name": "stdout",
     "output_type": "stream",
     "text": [
      "Gazprom             Дата    Цена   Откр.   Макс.    Мин.    Объём  Изм. %\n",
      "0     24.02.2025  171,24  170,47  172,28  169,25   57,30M   0,09%\n",
      "1     21.02.2025  171,09  173,00  174,38  167,61  101,89M  -1,10%\n",
      "2     20.02.2025  173,00  176,26  176,44  172,23   84,84M  -1,84%\n",
      "3     19.02.2025  176,25  172,22  177,80  169,12  140,45M   2,95%\n",
      "4     18.02.2025  171,20  181,00  184,80  169,00  319,22M  -4,92%\n",
      "...          ...     ...     ...     ...     ...      ...     ...\n",
      "2288  29.01.2016  136,60  137,00  137,20  133,33   41,60M   0,07%\n",
      "2289  28.01.2016  136,50  133,90  136,50  133,15   40,29M   1,87%\n",
      "2290  27.01.2016  134,00  132,14  134,00  131,85   28,64M   1,60%\n",
      "2291  26.01.2016  131,89  131,00  132,45  130,34   26,16M  -0,83%\n",
      "2292  25.01.2016  133,00  133,14  133,19  130,68   30,43M   0,45%\n",
      "\n",
      "[2293 rows x 7 columns] \n",
      "\n",
      "Sberbank             Дата    Цена   Откр.   Макс.    Мин.    Объём  Изм. %\n",
      "0     24.02.2025  314,60  314,92  316,10  313,01   22,30M  -0,04%\n",
      "1     21.02.2025  314,74  315,48  316,69  312,00   32,73M  -0,10%\n",
      "2     20.02.2025  315,05  315,91  317,96  314,02   33,16M  -0,27%\n",
      "3     19.02.2025  315,91  313,53  317,25  311,01   50,48M   0,95%\n",
      "4     18.02.2025  312,95  319,99  320,92  310,21   85,00M  -2,05%\n",
      "...          ...     ...     ...     ...     ...      ...     ...\n",
      "2287  29.01.2016   96,50   97,47   98,70   95,12  165,40M  -0,20%\n",
      "2288  28.01.2016   96,69   95,77   97,28   94,33  179,56M   0,98%\n",
      "2289  27.01.2016   95,75   91,98   96,26   91,47  150,82M   4,64%\n",
      "2290  26.01.2016   91,50   89,06   91,76   88,74  105,38M   0,55%\n",
      "2291  25.01.2016   91,00   92,55   93,35   90,00  131,78M  -0,55%\n",
      "\n",
      "[2292 rows x 7 columns] \n",
      "\n",
      "Yandex             Дата     Цена    Откр.    Макс.     Мин.    Объём  Изм. %\n",
      "0     24.02.2025  4.628,5  4.667,0  4.695,0  4.609,0  560,97K  -0,82%\n",
      "1     21.02.2025  4.667,0  4.680,0  4.697,5  4.590,0  685,05K   0,39%\n",
      "2     20.02.2025  4.649,0  4.660,0  4.734,0  4.610,5    1,69M   0,06%\n",
      "3     19.02.2025  4.646,0  4.550,0  4.669,0  4.527,0    1,13M   2,11%\n",
      "4     18.02.2025  4.550,0  4.718,5  4.749,5  4.511,0    1,39M  -3,38%\n",
      "...          ...      ...      ...      ...      ...      ...     ...\n",
      "2248  29.01.2016  1.007,0  1.019,0  1.029,8  1.005,2   58,27K  -1,02%\n",
      "2249  28.01.2016  1.017,4  1.049,6  1.051,0  1.011,0   84,86K  -3,10%\n",
      "2250  27.01.2016  1.049,9  1.018,1  1.054,8  1.018,1   89,06K   3,75%\n",
      "2251  26.01.2016  1.012,0  1.003,0  1.023,8    990,0   59,02K   0,99%\n",
      "2252  25.01.2016  1.002,1  1.020,0  1.030,0    988,0   64,01K  -1,75%\n",
      "\n",
      "[2253 rows x 7 columns] \n",
      "\n"
     ]
    }
   ],
   "source": [
    "for key, company in classic_var_data.items():\n",
    "  print(key, company, '\\n')"
   ]
  },
  {
   "cell_type": "markdown",
   "metadata": {
    "id": "0tr2QS8ZAHPy"
   },
   "source": [
    "Cтандартный VaR"
   ]
  },
  {
   "cell_type": "code",
   "execution_count": 83,
   "metadata": {
    "id": "0PqNPpGqAK5Y"
   },
   "outputs": [],
   "source": [
    "# for company in classic_var_data.values():\n",
    "#   company['Изм. %'] = [float(val[:-1].replace(',', '.'))/100 for val in company['Изм. %']]\n",
    "# for company in classic_var_data.values():\n",
    "#   for val in company['Изм. %']:\n",
    "#     print(val)\n",
    "#     val = float(val[:-1].replace(',', '.'))/100"
   ]
  },
  {
   "cell_type": "code",
   "execution_count": 84,
   "metadata": {
    "id": "EyPIQTG9AoTk"
   },
   "outputs": [
    {
     "name": "stdout",
     "output_type": "stream",
     "text": [
      "0       0.0009\n",
      "1      -0.0110\n",
      "2      -0.0184\n",
      "3       0.0295\n",
      "4      -0.0492\n",
      "         ...  \n",
      "2288    0.0007\n",
      "2289    0.0187\n",
      "2290    0.0160\n",
      "2291   -0.0083\n",
      "2292    0.0045\n",
      "Name: Изм. %, Length: 2293, dtype: float64\n",
      "0      -0.0004\n",
      "1      -0.0010\n",
      "2      -0.0027\n",
      "3       0.0095\n",
      "4      -0.0205\n",
      "         ...  \n",
      "2287   -0.0020\n",
      "2288    0.0098\n",
      "2289    0.0464\n",
      "2290    0.0055\n",
      "2291   -0.0055\n",
      "Name: Изм. %, Length: 2292, dtype: float64\n",
      "0      -0.0082\n",
      "1       0.0039\n",
      "2       0.0006\n",
      "3       0.0211\n",
      "4      -0.0338\n",
      "         ...  \n",
      "2248   -0.0102\n",
      "2249   -0.0310\n",
      "2250    0.0375\n",
      "2251    0.0099\n",
      "2252   -0.0175\n",
      "Name: Изм. %, Length: 2253, dtype: float64\n",
      "{'Gazprom': array([-0.3046, -0.2593, -0.1686, ...,  0.1338,  0.1636,  0.2495]), 'Sberbank': array([-0.3661, -0.1969, -0.1704, ...,  0.1034,  0.1249,  0.129 ]), 'Yandex': array([-0.3692, -0.1991, -0.1844, ...,  0.1139,  0.1388,  0.1633])}\n"
     ]
    }
   ],
   "source": [
    "period = len(classic_var_data['Gazprom'])\n",
    "sorted_data = dict.fromkeys(['Gazprom', 'Sberbank', 'Yandex'])\n",
    "for company, data in classic_var_data.items():\n",
    "    if data is None:\n",
    "        break\n",
    "#     print(data['Изм. %'])\n",
    "    print(data['Изм. %'])\n",
    "    sorted_data[company] = np.sort(data['Изм. %'])\n",
    "\n",
    "coef = int(period * alpha)\n",
    "print(sorted_data)"
   ]
  },
  {
   "cell_type": "code",
   "execution_count": 85,
   "metadata": {
    "colab": {
     "base_uri": "https://localhost:8080/"
    },
    "id": "_uQYchJQBKs6",
    "outputId": "ab21135a-d729-4ecd-d5e8-5ab37c261818"
   },
   "outputs": [
    {
     "name": "stdout",
     "output_type": "stream",
     "text": [
      "VaR_st for Gazprom is 2.49 %\n",
      "VaR_st for Sberbank is 2.73 %\n",
      "VaR_st for Yandex is 3.2300000000000004 %\n"
     ]
    }
   ],
   "source": [
    "for company, profit in sorted_data.items():\n",
    "  print('VaR_st for {name} is {var} %'.format(name=company, var=-profit[coef] * 100))"
   ]
  },
  {
   "cell_type": "markdown",
   "metadata": {
    "id": "bbIarCmIC045"
   },
   "source": [
    "Построим гистограммы доходности Газпрома, Сбербанка и Яндекса"
   ]
  },
  {
   "cell_type": "code",
   "execution_count": 86,
   "metadata": {
    "colab": {
     "base_uri": "https://localhost:8080/",
     "height": 748
    },
    "id": "e-3DF_wXBnOX",
    "outputId": "eb9519c0-d511-4416-cb5a-1e0ced58a42f"
   },
   "outputs": [
    {
     "data": {
      "image/png": "[encoded data removed]",
      "text/plain": [
       "<Figure size 1080x720 with 1 Axes>"
      ]
     },
     "metadata": {
      "needs_background": "light"
     },
     "output_type": "display_data"
    }
   ],
   "source": [
    "cut_cases = sorted_data['Gazprom'][:coef]\n",
    "remain_cases = sorted_data['Gazprom'][coef:len(sorted_data['Gazprom'])]\n",
    "plt.figure(figsize=(15, 10))\n",
    "plt.bar(range(len(cut_cases)), cut_cases, color='red')\n",
    "plt.bar(range(len(cut_cases), len(remain_cases) + len(cut_cases)), remain_cases, color='blue')\n",
    "plt.xlabel('Day')\n",
    "plt.ylabel('Profit, %')\n",
    "plt.grid()\n",
    "plt.show()"
   ]
  },
  {
   "cell_type": "code",
   "execution_count": 87,
   "metadata": {
    "colab": {
     "base_uri": "https://localhost:8080/",
     "height": 748
    },
    "id": "IhdHHXtFC-dv",
    "outputId": "ef9e523b-4842-40ce-df21-b31c94927a75"
   },
   "outputs": [
    {
     "data": {
      "image/png": "[encoded data removed]",
      "text/plain": [
       "<Figure size 1080x720 with 1 Axes>"
      ]
     },
     "metadata": {
      "needs_background": "light"
     },
     "output_type": "display_data"
    }
   ],
   "source": [
    "# сбербанка пока нет\n",
    "cut_cases = sorted_data['Sberbank'][:coef]\n",
    "remain_cases = sorted_data['Sberbank'][coef:len(sorted_data['Sberbank'])]\n",
    "plt.figure(figsize=(15, 10))\n",
    "plt.bar(range(len(cut_cases)), cut_cases, color='red')\n",
    "plt.bar(range(len(cut_cases), len(remain_cases) + len(cut_cases)), remain_cases, color='green')\n",
    "plt.xlabel('Day')\n",
    "plt.ylabel('Profit, %')\n",
    "plt.grid()\n",
    "plt.show()"
   ]
  },
  {
   "cell_type": "code",
   "execution_count": 88,
   "metadata": {
    "colab": {
     "base_uri": "https://localhost:8080/",
     "height": 748
    },
    "id": "pxu8npR5DIXX",
    "outputId": "3d38afd7-a887-4c01-fa0a-d35a2881260e"
   },
   "outputs": [
    {
     "data": {
      "image/png": "[encoded data removed]",
      "text/plain": [
       "<Figure size 1080x720 with 1 Axes>"
      ]
     },
     "metadata": {
      "needs_background": "light"
     },
     "output_type": "display_data"
    }
   ],
   "source": [
    "# яндекса пока нет\n",
    "cut_cases = sorted_data['Yandex'][:coef]\n",
    "remain_cases = sorted_data['Yandex'][coef:len(sorted_data['Yandex'])]\n",
    "plt.figure(figsize=(15, 10))\n",
    "plt.bar(range(len(cut_cases)), cut_cases, color='red')\n",
    "plt.bar(range(len(cut_cases), len(remain_cases) + len(cut_cases)), remain_cases, color='black')\n",
    "plt.xlabel('Day')\n",
    "plt.ylabel('Profit, %')\n",
    "plt.grid()\n",
    "plt.show()"
   ]
  },
  {
   "cell_type": "markdown",
   "metadata": {
    "id": "dzdfrX61DdAK"
   },
   "source": [
    "Перейдем к расчету риска всего портфеля"
   ]
  },
  {
   "cell_type": "code",
   "execution_count": 89,
   "metadata": {
    "id": "7d79jjllDkcE"
   },
   "outputs": [],
   "source": [
    "for company in classic_var_data.values():\n",
    "  company['Цена'] = [float((price.replace('.', '')).replace(',', '.')) for price in company['Цена']]\n",
    "\n",
    "portfolio_price = list(classic_var_data['Gazprom']['Цена'] + classic_var_data['Sberbank']['Цена'] +\n",
    "                       classic_var_data['Yandex']['Цена'])\n",
    "portfolio_profit = [(portfolio_price[i] - portfolio_price[i-1]) * 100 / portfolio_price[i-1]\\\n",
    "                    for i in range(len(portfolio_price)-1)]"
   ]
  },
  {
   "cell_type": "code",
   "execution_count": 90,
   "metadata": {
    "colab": {
     "base_uri": "https://localhost:8080/"
    },
    "id": "1ldulQ7OEo4L",
    "outputId": "2977ad50-a574-49bf-eb92-b3c5290b6eba"
   },
   "outputs": [
    {
     "name": "stdout",
     "output_type": "stream",
     "text": [
      "VaR for portfolio is 3.0662062538085504 %\n"
     ]
    }
   ],
   "source": [
    "portfolio_profit = np.sort(portfolio_profit)\n",
    "portfolio_coef = int(len(portfolio_profit)*alpha)\n",
    "VaR_st = -portfolio_profit[portfolio_coef]\n",
    "print('VaR for portfolio is {var} %'.format(var=VaR_st))"
   ]
  },
  {
   "cell_type": "markdown",
   "metadata": {
    "id": "vfzJk_0BFLa8"
   },
   "source": [
    "Изобразим гистограмму доходности портфеля"
   ]
  },
  {
   "cell_type": "code",
   "execution_count": 91,
   "metadata": {
    "colab": {
     "base_uri": "https://localhost:8080/",
     "height": 748
    },
    "id": "mAenWgybFP0L",
    "outputId": "86761c3f-169f-4b3b-e564-b96cb82b3d0d"
   },
   "outputs": [
    {
     "data": {
      "image/png": "[encoded data removed]",
      "text/plain": [
       "<Figure size 1080x720 with 1 Axes>"
      ]
     },
     "metadata": {
      "needs_background": "light"
     },
     "output_type": "display_data"
    }
   ],
   "source": [
    "cut_cases = portfolio_profit[:portfolio_coef]\n",
    "remain_cases = portfolio_profit[portfolio_coef:len(portfolio_profit)]\n",
    "plt.figure(figsize=(15, 10))\n",
    "plt.bar(range(len(cut_cases)), cut_cases, color='red')\n",
    "plt.bar(range(len(cut_cases), len(remain_cases) + len(cut_cases)), remain_cases, color='grey')\n",
    "plt.xlabel('Day')\n",
    "plt.ylabel('Profit, %')\n",
    "plt.grid()\n",
    "plt.show()"
   ]
  },
  {
   "cell_type": "markdown",
   "metadata": {
    "id": "nSTCHeK0GXQs"
   },
   "source": [
    "# Рассчитаем суммарный VaR"
   ]
  },
  {
   "cell_type": "markdown",
   "metadata": {},
   "source": [
    "дальнейший код пока не работает!"
   ]
  },
  {
   "cell_type": "code",
   "execution_count": 95,
   "metadata": {
    "colab": {
     "base_uri": "https://localhost:8080/"
    },
    "id": "Rs7vCxgqGeW7",
    "outputId": "3fdf70bb-c3bc-4c5a-939f-66a0dbdda0f4"
   },
   "outputs": [
    {
     "name": "stdout",
     "output_type": "stream",
     "text": [
      "VaR_sum for Gazprom is 9.553525640599325 %\n"
     ]
    },
    {
     "ename": "ValueError",
     "evalue": "operands could not be broadcast together with shapes (2290,) (2291,) (2290,) ",
     "output_type": "error",
     "traceback": [
      "\u001b[0;31m---------------------------------------------------------------------------\u001b[0m",
      "\u001b[0;31mValueError\u001b[0m                                Traceback (most recent call last)",
      "Input \u001b[0;32mIn [95]\u001b[0m, in \u001b[0;36m<cell line: 13>\u001b[0;34m()\u001b[0m\n\u001b[1;32m     13\u001b[0m \u001b[38;5;28;01mfor\u001b[39;00m company \u001b[38;5;129;01min\u001b[39;00m [\u001b[38;5;124m'\u001b[39m\u001b[38;5;124mGazprom\u001b[39m\u001b[38;5;124m'\u001b[39m, \u001b[38;5;124m'\u001b[39m\u001b[38;5;124mSberbank\u001b[39m\u001b[38;5;124m'\u001b[39m, \u001b[38;5;124m'\u001b[39m\u001b[38;5;124mYandex\u001b[39m\u001b[38;5;124m'\u001b[39m]:\n\u001b[1;32m     14\u001b[0m   U[company] \u001b[38;5;241m=\u001b[39m np\u001b[38;5;241m.\u001b[39mlog(mid_bid_ask_prices[company][k:])\n\u001b[0;32m---> 15\u001b[0m   U[company] \u001b[38;5;241m-\u001b[39m\u001b[38;5;241m=\u001b[39m np\u001b[38;5;241m.\u001b[39mlog(mid_bid_ask_prices[company][:T\u001b[38;5;241m-\u001b[39mk])\n\u001b[1;32m     16\u001b[0m   U[company] \u001b[38;5;241m=\u001b[39m np\u001b[38;5;241m.\u001b[39msort(U[company])\n\u001b[1;32m     17\u001b[0m   U_star[company] \u001b[38;5;241m=\u001b[39m \u001b[38;5;241m-\u001b[39mU[company][\u001b[38;5;28mint\u001b[39m(alpha\u001b[38;5;241m*\u001b[39m(T\u001b[38;5;241m-\u001b[39mk))]\n",
      "\u001b[0;31mValueError\u001b[0m: operands could not be broadcast together with shapes (2290,) (2291,) (2290,) "
     ]
    }
   ],
   "source": [
    "import random\n",
    "\n",
    "T = len(portfolio_price)\n",
    "k = 2\n",
    "\n",
    "mid_bid_ask_prices = dict.fromkeys(['Gazprom', 'Sberbank', 'Yandex'])\n",
    "for company, data in classic_var_data.items():\n",
    "  mid_bid_ask_prices[company] = [random.uniform(price - 10, price + 10) for price in classic_var_data[company]['Цена']]\n",
    "\n",
    "U = dict.fromkeys(['Gazprom', 'Sberbank', 'Yandex'])\n",
    "U_star = dict.fromkeys(['Gazprom', 'Sberbank', 'Yandex'])\n",
    "\n",
    "for company in ['Gazprom', 'Sberbank', 'Yandex']:\n",
    "  U[company] = np.log(mid_bid_ask_prices[company][k:])- np.log(mid_bid_ask_prices[company][:T-k])\n",
    "  U[company] = np.sort(U[company])\n",
    "  U_star[company] = -U[company][int(alpha*(T-k))]\n",
    "  print('VaR_sum for {name} is {val} %'.format(name=company, val=U_star[company]*100))"
   ]
  },
  {
   "cell_type": "markdown",
   "metadata": {
    "id": "ht-smo2eIKZK"
   },
   "source": [
    "Аналогично посчитаем для всего портфеля"
   ]
  },
  {
   "cell_type": "code",
   "execution_count": 18,
   "metadata": {
    "colab": {
     "base_uri": "https://localhost:8080/"
    },
    "id": "ihoRSwUgIQN7",
    "outputId": "f0bb4b9b-edd3-4530-cb2e-99c4dba0dbec"
   },
   "outputs": [
    {
     "name": "stdout",
     "output_type": "stream",
     "text": [
      "VaR_sum for portfolio is 1.0679977071923474 %\n"
     ]
    }
   ],
   "source": [
    "mid_bid_ask_portfolio = np.array(mid_bid_ask_prices['Gazprom']) + np.array(mid_bid_ask_prices['Sberbank']) \\\n",
    "                                 + np.array(mid_bid_ask_prices['Yandex'])\n",
    "\n",
    "U_portfolio = np.log(mid_bid_ask_portfolio[k:]) - np.log(mid_bid_ask_portfolio[:T-k])\n",
    "U_portfolio = np.sort(U_portfolio)\n",
    "U_portfolio_star = U_portfolio[int(alpha*(T-k))]\n",
    "print('VaR_sum for portfolio is {val} %'.format(val=-U_portfolio_star*100))"
   ]
  }
 ],
 "metadata": {
  "colab": {
   "provenance": []
  },
  "kernelspec": {
   "display_name": "SciEnv",
   "language": "python",
   "name": "scienv"
  },
  "language_info": {
   "codemirror_mode": {
    "name": "ipython",
    "version": 3
   },
   "file_extension": ".py",
   "mimetype": "text/x-python",
   "name": "python",
   "nbconvert_exporter": "python",
   "pygments_lexer": "ipython3",
   "version": "3.10.6"
  }
 },
 "nbformat": 4,
 "nbformat_minor": 1
}
